{
 "cells": [
  {
   "cell_type": "markdown",
   "metadata": {
    "id": "818BuMHfxk9n"
   },
   "source": [
    "# Annotated follow-along guide: Hello, Python!\n",
    "\n",
    "This notebook contains the code used in the instructional videos from [Module 1: Hello, Python!](https://www.coursera.org/learn/get-started-with-python/home/module/1).\n"
   ]
  },
  {
   "cell_type": "markdown",
   "metadata": {},
   "source": [
    "## Introduction\n",
    "\n",
    "This follow-along guide is an annotated Jupyter Notebook organized to match the content from each module. It contains the same code shown in the videos for the module. In addition to content that is identical to what is covered in the videos, you’ll find additional information throughout the guide to explain the purpose of each concept covered, why the code is written in a certain way, and tips for running the code.\n",
    "\n",
    "As you watch each of the following videos, an in-video message will appear to advise you that the video you are viewing contains coding instruction and examples. The in-video message will direct you to the relevant section in the notebook for the specific video you are viewing. Follow along in the notebook as the instructor discusses the code.\n",
    "\n",
    "To skip directly to the code for a particular video, use the following links:\n",
    "\n",
    "1.   **[Discover more about Python](#1)**\n",
    "2.   **[Jupyter Notebook](#2)**\n",
    "3.   **[Object-oriented programming](#3)**\n",
    "4.   **[Variables and data types](#4)**\n",
    "5.   **[Create precise variable names](#5)**\n",
    "6.   **[Data types and conversions](#6)**"
   ]
  },
  {
   "cell_type": "markdown",
   "metadata": {
    "id": "mcqdtonYCqET"
   },
   "source": [
    "<a name=\"1\"></a>\n",
    "## 1. [Discover more about Python](https://www.coursera.org/learn/get-started-with-python/lecture/JC2zu/discover-more-about-python)\n"
   ]
  },
  {
   "cell_type": "code",
   "execution_count": 1,
   "metadata": {
    "colab": {
     "base_uri": "https://localhost:8080/"
    },
    "executionInfo": {
     "elapsed": 304,
     "status": "ok",
     "timestamp": 1675736124196,
     "user": {
      "displayName": "Matteo Riotto",
      "userId": "15211004813978485634"
     },
     "user_tz": 480
    },
    "id": "5sMF3TK9Cktb",
    "outputId": "83f46b5d-8066-40cc-ccb3-dbb36ff190fc"
   },
   "outputs": [
    {
     "name": "stdout",
     "output_type": "stream",
     "text": [
      "Hello, world!\n"
     ]
    }
   ],
   "source": [
    "# Print to the console.\n",
    "print(\"Hello, world!\")"
   ]
  },
  {
   "cell_type": "code",
   "execution_count": 2,
   "metadata": {
    "colab": {
     "base_uri": "https://localhost:8080/"
    },
    "executionInfo": {
     "elapsed": 22,
     "status": "ok",
     "timestamp": 1675736124531,
     "user": {
      "displayName": "Matteo Riotto",
      "userId": "15211004813978485634"
     },
     "user_tz": 480
    },
    "id": "gJeu3xlXL2v_",
    "outputId": "06dcd1aa-a7f2-4442-9b97-82f55da18982"
   },
   "outputs": [
    {
     "name": "stdout",
     "output_type": "stream",
     "text": [
      "22\n"
     ]
    }
   ],
   "source": [
    "# Print to the console.\n",
    "print(22)"
   ]
  },
  {
   "cell_type": "code",
   "execution_count": 3,
   "metadata": {
    "colab": {
     "base_uri": "https://localhost:8080/"
    },
    "executionInfo": {
     "elapsed": 20,
     "status": "ok",
     "timestamp": 1675736124532,
     "user": {
      "displayName": "Matteo Riotto",
      "userId": "15211004813978485634"
     },
     "user_tz": 480
    },
    "id": "hES5Pl57D1ey",
    "outputId": "2acea199-fc6d-425e-f4c9-52e6e391c576"
   },
   "outputs": [
    {
     "data": {
      "text/plain": [
       "3.0"
      ]
     },
     "execution_count": 3,
     "metadata": {},
     "output_type": "execute_result"
    }
   ],
   "source": [
    "# Simple arithmetic\n",
    "(5 + 4) / 3"
   ]
  },
  {
   "cell_type": "code",
   "execution_count": 4,
   "metadata": {
    "colab": {
     "base_uri": "https://localhost:8080/"
    },
    "executionInfo": {
     "elapsed": 18,
     "status": "ok",
     "timestamp": 1675736124532,
     "user": {
      "displayName": "Matteo Riotto",
      "userId": "15211004813978485634"
     },
     "user_tz": 480
    },
    "id": "p27cA_crF7tN",
    "outputId": "f45c73b0-1000-416d-d2ff-8e8dc14707fa"
   },
   "outputs": [
    {
     "name": "stdout",
     "output_type": "stream",
     "text": [
      "Brazil\n",
      "30\n"
     ]
    }
   ],
   "source": [
    "# Assign variables.\n",
    "country = 'Brazil'\n",
    "age = 30\n",
    "\n",
    "print(country)\n",
    "print(age)"
   ]
  },
  {
   "cell_type": "code",
   "execution_count": 5,
   "metadata": {
    "colab": {
     "base_uri": "https://localhost:8080/"
    },
    "executionInfo": {
     "elapsed": 15,
     "status": "ok",
     "timestamp": 1675736124532,
     "user": {
      "displayName": "Matteo Riotto",
      "userId": "15211004813978485634"
     },
     "user_tz": 480
    },
    "id": "r6n08ZCiEKdi",
    "outputId": "0720531d-02ab-4ba2-a307-b63dad7f3bba"
   },
   "outputs": [
    {
     "data": {
      "text/plain": [
       "True"
      ]
     },
     "execution_count": 5,
     "metadata": {},
     "output_type": "execute_result"
    }
   ],
   "source": [
    "# Evaluations\n",
    "# Double equals signs are used to check equivalency.\n",
    "10**3 == 1000"
   ]
  },
  {
   "cell_type": "code",
   "execution_count": 6,
   "metadata": {
    "colab": {
     "base_uri": "https://localhost:8080/",
     "height": 134
    },
    "executionInfo": {
     "elapsed": 13,
     "status": "error",
     "timestamp": 1675736124533,
     "user": {
      "displayName": "Matteo Riotto",
      "userId": "15211004813978485634"
     },
     "user_tz": 480
    },
    "id": "S4dfXPU5LXj5",
    "outputId": "b877923d-528a-4ec1-855f-017cd8b58765"
   },
   "outputs": [
    {
     "ename": "SyntaxError",
     "evalue": "can't assign to operator (<ipython-input-6-57bc1cacb102>, line 3)",
     "output_type": "error",
     "traceback": [
      "\u001b[0;36m  File \u001b[0;32m\"<ipython-input-6-57bc1cacb102>\"\u001b[0;36m, line \u001b[0;32m3\u001b[0m\n\u001b[0;31m    10 ** 3 = 1000\u001b[0m\n\u001b[0m                  ^\u001b[0m\n\u001b[0;31mSyntaxError\u001b[0m\u001b[0;31m:\u001b[0m can't assign to operator\n"
     ]
    }
   ],
   "source": [
    "# Evaluations\n",
    "# A single equals sign is reserved for assignment statements.\n",
    "10 ** 3 = 1000"
   ]
  },
  {
   "cell_type": "code",
   "execution_count": 7,
   "metadata": {
    "colab": {
     "base_uri": "https://localhost:8080/"
    },
    "executionInfo": {
     "elapsed": 245,
     "status": "ok",
     "timestamp": 1675736125950,
     "user": {
      "displayName": "Matteo Riotto",
      "userId": "15211004813978485634"
     },
     "user_tz": 480
    },
    "id": "yvMdyxd-FEq6",
    "outputId": "97a64756-e618-4a07-8791-87231dd6fb19"
   },
   "outputs": [
    {
     "data": {
      "text/plain": [
       "False"
      ]
     },
     "execution_count": 7,
     "metadata": {},
     "output_type": "execute_result"
    }
   ],
   "source": [
    "# Evaluations\n",
    "# Double equals signs are used to check equivalency.\n",
    "10 * 3 == 40"
   ]
  },
  {
   "cell_type": "code",
   "execution_count": 8,
   "metadata": {
    "colab": {
     "base_uri": "https://localhost:8080/"
    },
    "executionInfo": {
     "elapsed": 10,
     "status": "ok",
     "timestamp": 1675736126210,
     "user": {
      "displayName": "Matteo Riotto",
      "userId": "15211004813978485634"
     },
     "user_tz": 480
    },
    "id": "h-YOjdKnGe12",
    "outputId": "2fc324c0-eec8-4c83-93a6-4c31124d30d6"
   },
   "outputs": [
    {
     "data": {
      "text/plain": [
       "True"
      ]
     },
     "execution_count": 8,
     "metadata": {},
     "output_type": "execute_result"
    }
   ],
   "source": [
    "# Evaluations\n",
    "# Double equals signs are used to check equivalency.\n",
    "10 * 3 == age"
   ]
  },
  {
   "cell_type": "code",
   "execution_count": 9,
   "metadata": {
    "colab": {
     "base_uri": "https://localhost:8080/"
    },
    "executionInfo": {
     "elapsed": 7,
     "status": "ok",
     "timestamp": 1675736126211,
     "user": {
      "displayName": "Matteo Riotto",
      "userId": "15211004813978485634"
     },
     "user_tz": 480
    },
    "id": "ftY6MD7qG5dw",
    "outputId": "a4ad7039-f201-4214-be2f-8dfe84d1d3be"
   },
   "outputs": [
    {
     "name": "stdout",
     "output_type": "stream",
     "text": [
      "adult\n"
     ]
    }
   ],
   "source": [
    "# Conditional statements\n",
    "if age >= 18:\n",
    "    print('adult')\n",
    "else:\n",
    "    print('minor')"
   ]
  },
  {
   "cell_type": "code",
   "execution_count": 10,
   "metadata": {
    "colab": {
     "base_uri": "https://localhost:8080/"
    },
    "executionInfo": {
     "elapsed": 7,
     "status": "ok",
     "timestamp": 1675736126678,
     "user": {
      "displayName": "Matteo Riotto",
      "userId": "15211004813978485634"
     },
     "user_tz": 480
    },
    "id": "osXZv2Z3Ir5f",
    "outputId": "85f326b8-d81e-4645-ac7b-01f99303a4b3"
   },
   "outputs": [
    {
     "name": "stdout",
     "output_type": "stream",
     "text": [
      "1\n",
      "2\n",
      "3\n",
      "4\n",
      "5\n"
     ]
    }
   ],
   "source": [
    "# Loops\n",
    "for number in [1, 2, 3, 4, 5]:\n",
    "    print(number)"
   ]
  },
  {
   "cell_type": "code",
   "execution_count": 11,
   "metadata": {
    "colab": {
     "base_uri": "https://localhost:8080/"
    },
    "executionInfo": {
     "elapsed": 6,
     "status": "ok",
     "timestamp": 1675736126679,
     "user": {
      "displayName": "Matteo Riotto",
      "userId": "15211004813978485634"
     },
     "user_tz": 480
    },
    "id": "ooFaKQKmI1JG",
    "outputId": "aede7c87-2d72-4131-d246-71683a9cf179"
   },
   "outputs": [
    {
     "name": "stdout",
     "output_type": "stream",
     "text": [
      "1.0\n",
      "2.0\n",
      "3.0\n"
     ]
    }
   ],
   "source": [
    "# Loops\n",
    "my_list = [3, 6, 9]\n",
    "\n",
    "for x in my_list:\n",
    "    print(x / 3)"
   ]
  },
  {
   "cell_type": "code",
   "execution_count": 12,
   "metadata": {
    "id": "Y4WB1X7qJZ-B"
   },
   "outputs": [],
   "source": [
    "# Functions\n",
    "def is_adult(age):\n",
    "\n",
    "    if age >= 18:\n",
    "        print('adult')\n",
    "    else:\n",
    "        print('minor')"
   ]
  },
  {
   "cell_type": "code",
   "execution_count": 13,
   "metadata": {
    "colab": {
     "base_uri": "https://localhost:8080/"
    },
    "executionInfo": {
     "elapsed": 6,
     "status": "ok",
     "timestamp": 1675736126930,
     "user": {
      "displayName": "Matteo Riotto",
      "userId": "15211004813978485634"
     },
     "user_tz": 480
    },
    "id": "7WLu8M3YJ5JK",
    "outputId": "23cb6465-2306-4c17-f0c3-543ec30395c0"
   },
   "outputs": [
    {
     "name": "stdout",
     "output_type": "stream",
     "text": [
      "minor\n"
     ]
    }
   ],
   "source": [
    "# Use the function that was just created.\n",
    "is_adult(14)"
   ]
  },
  {
   "cell_type": "code",
   "execution_count": null,
   "metadata": {
    "colab": {
     "base_uri": "https://localhost:8080/"
    },
    "executionInfo": {
     "elapsed": 3,
     "status": "ok",
     "timestamp": 1675736127163,
     "user": {
      "displayName": "Matteo Riotto",
      "userId": "15211004813978485634"
     },
     "user_tz": 480
    },
    "id": "1EAHtCadKYJC",
    "outputId": "d92c5287-f4d3-4dbe-ae37-c364f13ce80c"
   },
   "outputs": [
    {
     "data": {
      "text/plain": [
       "[5, 10, 20, 25]"
      ]
     },
     "execution_count": 14,
     "metadata": {},
     "output_type": "execute_result"
    }
   ],
   "source": [
    "# Use the built-in sorted() function.\n",
    "new_list = [20, 25, 10, 5]\n",
    "\n",
    "sorted(new_list) # sorted asc order by default"
   ]
  },
  {
   "cell_type": "markdown",
   "metadata": {
    "id": "ph8jKhMwscpk"
   },
   "source": [
    "<a name=\"2\"></a>\n",
    "## 2. [Jupyter Notebooks](https://www.coursera.org/learn/get-started-with-python/lecture/2l42i/jupyter-notebooks)"
   ]
  },
  {
   "cell_type": "markdown",
   "metadata": {
    "id": "hIcjattNs4cF"
   },
   "source": [
    "**NOTE:** The import statements cell must be run before running some of the following cells. This setup step was not shown in the instructional video, but you will learn about import statements later in this course."
   ]
  },
  {
   "cell_type": "code",
   "execution_count": 6,
   "metadata": {
    "id": "SMuQ2GpoKcZF"
   },
   "outputs": [],
   "source": [
    "# Import statements.\n",
    "import warnings\n",
    "warnings.filterwarnings('ignore')\n",
    "\n",
    "import numpy as np\n",
    "import pandas as pd\n",
    "import matplotlib.pyplot as plt\n",
    "from mpl_toolkits.mplot3d import Axes3D\n",
    "import seaborn as sns"
   ]
  },
  {
   "cell_type": "code",
   "execution_count": 38,
   "metadata": {
    "id": "QwGnd7_tiBsa"
   },
   "outputs": [],
   "source": [
    "# Create a list.\n",
    "my_list = [10, 'gold', 'dollars']"
   ]
  },
  {
   "cell_type": "code",
   "execution_count": 8,
   "metadata": {
    "id": "B8iaVsg_KeEq"
   },
   "outputs": [],
   "source": [
    "# Use the helper function to calculate F1 score used in the following graphics.\n",
    "def f1_score(precision, recall):\n",
    "    score = 2*precision*recall / (precision + recall)\n",
    "    score = np.nan_to_num(score)\n",
    "\n",
    "    return score"
   ]
  },
  {
   "cell_type": "code",
   "execution_count": 9,
   "metadata": {
    "colab": {
     "base_uri": "https://localhost:8080/",
     "height": 575
    },
    "executionInfo": {
     "elapsed": 1129,
     "status": "ok",
     "timestamp": 1675802214077,
     "user": {
      "displayName": "Matteo Riotto",
      "userId": "15211004813978485634"
     },
     "user_tz": 480
    },
    "id": "3x8mCn-GKlnV",
    "outputId": "16b1be41-a134-49a1-ad6e-4b83c3afe3ce"
   },
   "outputs": [
    {
     "data": {
      "image/png": "[encoded data removed]",
      "text/plain": [
       "<Figure size 1000x1000 with 1 Axes>"
      ]
     },
     "metadata": {},
     "output_type": "display_data"
    }
   ],
   "source": [
    "# Generate a graph of F1 score for different precision and recall scores.\n",
    "x = np.linspace(0, 1, 101)\n",
    "y = np.linspace(0, 1, 101)\n",
    "X, Y = np.meshgrid(x, y)\n",
    "Z = f1_score(X, Y)\n",
    "fig = plt.figure()\n",
    "fig.set_size_inches(10, 10)\n",
    "ax = plt.axes(projection='3d')\n",
    "ax.plot_surface(X, Y, Z, rstride=2, cstride=3, cmap='plasma')\n",
    "\n",
    "ax.set_title('$F_{1}$ of precision, recall', size=18)\n",
    "ax.set_xlabel('x')\n",
    "ax.set_ylabel('y')\n",
    "ax.set_zlabel('z')\n",
    "ax.view_init(35, -65)"
   ]
  },
  {
   "cell_type": "markdown",
   "metadata": {
    "id": "m0OFMuQKtwG8"
   },
   "source": [
    "**NOTE:** The following cells use markdown (like this cell) to create formatted text like headers and bullets, tables, and mathematical equations. You can select any cell and enter into edit mode to view the markdown text. Then run the cell to view the rendered output."
   ]
  },
  {
   "cell_type": "markdown",
   "metadata": {
    "id": "KxoyQh6lmTco"
   },
   "source": [
    "### **Section 2**\n",
    "\n",
    "* Part 1:\n",
    "* Part 2:"
   ]
  },
  {
   "cell_type": "markdown",
   "metadata": {
    "id": "si90CAMZmpeR"
   },
   "source": [
    "|Title|Author|Date|\n",
    "|:--|:--|:-:|\n",
    "|The Art of War|Sun Tzu|5th cent. BCE|\n",
    "|Don Quixote de la Mancha|Miguel de Cervantes Saavedra|1605|\n",
    "|Pride and Prejudice|Jane Austen|1813|\n"
   ]
  },
  {
   "cell_type": "markdown",
   "metadata": {
    "id": "9h88IBlXtAwI"
   },
   "source": [
    "$$\n",
    "  \\int_0^\\infty \\frac{x^3}{e^x-1}\\,dx = \\frac{\\pi^4}{15}\n",
    "$$"
   ]
  },
  {
   "cell_type": "markdown",
   "metadata": {
    "id": "eMDQonzy95-R"
   },
   "source": [
    "<a name=\"3\"></a>\n",
    "## 3. [Object-oriented programming](https://www.coursera.org/learn/get-started-with-python/lecture/1SJMN/object-oriented-programming) "
   ]
  },
  {
   "cell_type": "code",
   "execution_count": 10,
   "metadata": {
    "colab": {
     "base_uri": "https://localhost:8080/"
    },
    "executionInfo": {
     "elapsed": 238,
     "status": "ok",
     "timestamp": 1676666706335,
     "user": {
      "displayName": "Matteo Riotto",
      "userId": "15211004813978485634"
     },
     "user_tz": 480
    },
    "id": "d9v_vvwvBdRF",
    "outputId": "74bf7216-c556-4361-ddec-442ff432a76f"
   },
   "outputs": [
    {
     "name": "stdout",
     "output_type": "stream",
     "text": [
      "<class 'str'>\n"
     ]
    }
   ],
   "source": [
    "# Assign a string to a variable and check its type.\n",
    "magic = 'HOCUS POCUS'\n",
    "print(type(magic))"
   ]
  },
  {
   "cell_type": "code",
   "execution_count": 11,
   "metadata": {
    "colab": {
     "base_uri": "https://localhost:8080/",
     "height": 35
    },
    "executionInfo": {
     "elapsed": 9,
     "status": "ok",
     "timestamp": 1676666706802,
     "user": {
      "displayName": "Matteo Riotto",
      "userId": "15211004813978485634"
     },
     "user_tz": 480
    },
    "id": "38v6rsUbk_M-",
    "outputId": "04d22e54-2f73-4716-e185-4196cb18ceb1"
   },
   "outputs": [
    {
     "data": {
      "text/plain": [
       "'hocus pocus'"
      ]
     },
     "execution_count": 11,
     "metadata": {},
     "output_type": "execute_result"
    }
   ],
   "source": [
    "# Use the swapcase() string method to convert from caps to lowercase.\n",
    "magic = 'HOCUS POCUS'\n",
    "magic = magic.swapcase()\n",
    "magic"
   ]
  },
  {
   "cell_type": "code",
   "execution_count": 12,
   "metadata": {
    "colab": {
     "base_uri": "https://localhost:8080/",
     "height": 35
    },
    "executionInfo": {
     "elapsed": 10,
     "status": "ok",
     "timestamp": 1676666707543,
     "user": {
      "displayName": "Matteo Riotto",
      "userId": "15211004813978485634"
     },
     "user_tz": 480
    },
    "id": "QG-RN_IkAGAG",
    "outputId": "7909a3a2-847f-489f-a6be-4ed768cf7786"
   },
   "outputs": [
    {
     "data": {
      "text/plain": [
       "'hokey pokey'"
      ]
     },
     "execution_count": 12,
     "metadata": {},
     "output_type": "execute_result"
    }
   ],
   "source": [
    "# Use the replace() string method to replace some letters with other letters.\n",
    "magic = magic.replace('cus', 'key')\n",
    "magic"
   ]
  },
  {
   "cell_type": "code",
   "execution_count": 13,
   "metadata": {
    "colab": {
     "base_uri": "https://localhost:8080/"
    },
    "executionInfo": {
     "elapsed": 6,
     "status": "ok",
     "timestamp": 1676666709870,
     "user": {
      "displayName": "Matteo Riotto",
      "userId": "15211004813978485634"
     },
     "user_tz": 480
    },
    "id": "i8UDnzMNAVt5",
    "outputId": "246e5a42-55d7-4732-e746-4d85bd6cf120"
   },
   "outputs": [
    {
     "data": {
      "text/plain": [
       "['hokey', 'pokey']"
      ]
     },
     "execution_count": 13,
     "metadata": {},
     "output_type": "execute_result"
    }
   ],
   "source": [
    "# Use the split() string method to split the string into two strings.\n",
    "magic = magic.split()\n",
    "magic"
   ]
  },
  {
   "cell_type": "code",
   "execution_count": 2,
   "metadata": {
    "id": "ydBUn9DNAhAu"
   },
   "outputs": [],
   "source": [
    "# Set up the cell to create the `planets` dataframe.\n",
    "# (This cell was not shown in the instructional video.)\n",
    "import pandas as pd\n",
    "data = [['Mercury', 2440, 0], ['Venus', 6052, 0,], ['Earth', 6371, 1],\n",
    "        ['Mars', 3390, 2], ['Jupiter', 69911, 80], ['Saturn', 58232, 83],\n",
    "        ['Uranus', 25362, 27], ['Neptune', 24622, 14]\n",
    "]\n",
    "\n",
    "cols = ['Planet', 'radius_km', 'moons']\n",
    "\n",
    "planets = pd.DataFrame(data, columns=cols)"
   ]
  },
  {
   "cell_type": "code",
   "execution_count": 3,
   "metadata": {
    "colab": {
     "base_uri": "https://localhost:8080/",
     "height": 300
    },
    "executionInfo": {
     "elapsed": 8,
     "status": "ok",
     "timestamp": 1676665979783,
     "user": {
      "displayName": "Matteo Riotto",
      "userId": "15211004813978485634"
     },
     "user_tz": 480
    },
    "id": "yVX80zdzE9TY",
    "outputId": "cb35b6ed-c035-475b-a266-72218c5903d6"
   },
   "outputs": [
    {
     "data": {
      "text/html": [
       "<div>\n",
       "<style scoped>\n",
       "    .dataframe tbody tr th:only-of-type {\n",
       "        vertical-align: middle;\n",
       "    }\n",
       "\n",
       "    .dataframe tbody tr th {\n",
       "        vertical-align: top;\n",
       "    }\n",
       "\n",
       "    .dataframe thead th {\n",
       "        text-align: right;\n",
       "    }\n",
       "</style>\n",
       "<table border=\"1\" class=\"dataframe\">\n",
       "  <thead>\n",
       "    <tr style=\"text-align: right;\">\n",
       "      <th></th>\n",
       "      <th>Planet</th>\n",
       "      <th>radius_km</th>\n",
       "      <th>moons</th>\n",
       "    </tr>\n",
       "  </thead>\n",
       "  <tbody>\n",
       "    <tr>\n",
       "      <th>0</th>\n",
       "      <td>Mercury</td>\n",
       "      <td>2440</td>\n",
       "      <td>0</td>\n",
       "    </tr>\n",
       "    <tr>\n",
       "      <th>1</th>\n",
       "      <td>Venus</td>\n",
       "      <td>6052</td>\n",
       "      <td>0</td>\n",
       "    </tr>\n",
       "    <tr>\n",
       "      <th>2</th>\n",
       "      <td>Earth</td>\n",
       "      <td>6371</td>\n",
       "      <td>1</td>\n",
       "    </tr>\n",
       "    <tr>\n",
       "      <th>3</th>\n",
       "      <td>Mars</td>\n",
       "      <td>3390</td>\n",
       "      <td>2</td>\n",
       "    </tr>\n",
       "    <tr>\n",
       "      <th>4</th>\n",
       "      <td>Jupiter</td>\n",
       "      <td>69911</td>\n",
       "      <td>80</td>\n",
       "    </tr>\n",
       "    <tr>\n",
       "      <th>5</th>\n",
       "      <td>Saturn</td>\n",
       "      <td>58232</td>\n",
       "      <td>83</td>\n",
       "    </tr>\n",
       "    <tr>\n",
       "      <th>6</th>\n",
       "      <td>Uranus</td>\n",
       "      <td>25362</td>\n",
       "      <td>27</td>\n",
       "    </tr>\n",
       "    <tr>\n",
       "      <th>7</th>\n",
       "      <td>Neptune</td>\n",
       "      <td>24622</td>\n",
       "      <td>14</td>\n",
       "    </tr>\n",
       "  </tbody>\n",
       "</table>\n",
       "</div>"
      ],
      "text/plain": [
       "    Planet  radius_km  moons\n",
       "0  Mercury       2440      0\n",
       "1    Venus       6052      0\n",
       "2    Earth       6371      1\n",
       "3     Mars       3390      2\n",
       "4  Jupiter      69911     80\n",
       "5   Saturn      58232     83\n",
       "6   Uranus      25362     27\n",
       "7  Neptune      24622     14"
      ]
     },
     "execution_count": 3,
     "metadata": {},
     "output_type": "execute_result"
    }
   ],
   "source": [
    "# Display the `planets` dataframe.\n",
    "planets"
   ]
  },
  {
   "cell_type": "code",
   "execution_count": 4,
   "metadata": {
    "colab": {
     "base_uri": "https://localhost:8080/"
    },
    "executionInfo": {
     "elapsed": 209,
     "status": "ok",
     "timestamp": 1676667225653,
     "user": {
      "displayName": "Matteo Riotto",
      "userId": "15211004813978485634"
     },
     "user_tz": 480
    },
    "id": "Kjm_3B5RFIDX",
    "outputId": "b24fc1b2-19fd-4731-f674-05dcde0bdec6"
   },
   "outputs": [
    {
     "data": {
      "text/plain": [
       "(8, 3)"
      ]
     },
     "execution_count": 4,
     "metadata": {},
     "output_type": "execute_result"
    }
   ],
   "source": [
    "# Use the shape dataframe attribute to check the number of rows and columns.\n",
    "planets.shape"
   ]
  },
  {
   "cell_type": "code",
   "execution_count": 5,
   "metadata": {
    "colab": {
     "base_uri": "https://localhost:8080/"
    },
    "executionInfo": {
     "elapsed": 5,
     "status": "ok",
     "timestamp": 1676667290513,
     "user": {
      "displayName": "Matteo Riotto",
      "userId": "15211004813978485634"
     },
     "user_tz": 480
    },
    "id": "ZS0U3IA-F_p3",
    "outputId": "108a4691-c9a8-4b29-9f4c-0818cf2f9b33"
   },
   "outputs": [
    {
     "data": {
      "text/plain": [
       "Index(['Planet', 'radius_km', 'moons'], dtype='object')"
      ]
     },
     "execution_count": 5,
     "metadata": {},
     "output_type": "execute_result"
    }
   ],
   "source": [
    "# Use the columns dataframe attribute to check column names.\n",
    "planets.columns"
   ]
  },
  {
   "cell_type": "markdown",
   "metadata": {
    "id": "lt5itAQsvOoK"
   },
   "source": [
    "<a name=\"4\"></a>\n",
    "## 4. [Variables and data types](https://www.coursera.org/learn/get-started-with-python/lecture/k3ex2/variables-and-data-types) "
   ]
  },
  {
   "cell_type": "code",
   "execution_count": 15,
   "metadata": {
    "id": "BGEiZrllq1D-"
   },
   "outputs": [],
   "source": [
    "# Assign a list containing players' ages.\n",
    "age_list = [34, 25, 23, 19, 29]"
   ]
  },
  {
   "cell_type": "code",
   "execution_count": 16,
   "metadata": {
    "colab": {
     "base_uri": "https://localhost:8080/"
    },
    "executionInfo": {
     "elapsed": 192,
     "status": "ok",
     "timestamp": 1675827748975,
     "user": {
      "displayName": "Matteo Riotto",
      "userId": "15211004813978485634"
     },
     "user_tz": 480
    },
    "id": "m-3D5eTYtOzl",
    "outputId": "54791b86-c402-4651-819e-f428fb8a34c6"
   },
   "outputs": [
    {
     "data": {
      "text/plain": [
       "34"
      ]
     },
     "execution_count": 16,
     "metadata": {},
     "output_type": "execute_result"
    }
   ],
   "source": [
    "# Find the maximum age and assign to `max_age` variable.\n",
    "max_age = max(age_list)\n",
    "max_age"
   ]
  },
  {
   "cell_type": "code",
   "execution_count": 17,
   "metadata": {
    "colab": {
     "base_uri": "https://localhost:8080/",
     "height": 35
    },
    "executionInfo": {
     "elapsed": 261,
     "status": "ok",
     "timestamp": 1675825819149,
     "user": {
      "displayName": "Matteo Riotto",
      "userId": "15211004813978485634"
     },
     "user_tz": 480
    },
    "id": "qha0MC1W0pf-",
    "outputId": "ef2d2f00-bbc3-44c8-af01-c18f8011618c"
   },
   "outputs": [
    {
     "data": {
      "text/plain": [
       "'34'"
      ]
     },
     "execution_count": 17,
     "metadata": {},
     "output_type": "execute_result"
    }
   ],
   "source": [
    "# Convert `max_age` to a string.\n",
    "max_age = str(max_age)\n",
    "max_age"
   ]
  },
  {
   "cell_type": "code",
   "execution_count": 18,
   "metadata": {
    "colab": {
     "base_uri": "https://localhost:8080/",
     "height": 35
    },
    "executionInfo": {
     "elapsed": 21,
     "status": "ok",
     "timestamp": 1675825819150,
     "user": {
      "displayName": "Matteo Riotto",
      "userId": "15211004813978485634"
     },
     "user_tz": 480
    },
    "id": "BLdS_auT0qQp",
    "outputId": "1e669938-c4ef-470b-ee39-afba8d80238a"
   },
   "outputs": [
    {
     "data": {
      "text/plain": [
       "'ninety-nine'"
      ]
     },
     "execution_count": 18,
     "metadata": {},
     "output_type": "execute_result"
    }
   ],
   "source": [
    "# Reassign the value of `max_age`.\n",
    "max_age = 'ninety-nine'\n",
    "max_age"
   ]
  },
  {
   "cell_type": "code",
   "execution_count": 19,
   "metadata": {
    "colab": {
     "base_uri": "https://localhost:8080/"
    },
    "executionInfo": {
     "elapsed": 292,
     "status": "ok",
     "timestamp": 1675827758431,
     "user": {
      "displayName": "Matteo Riotto",
      "userId": "15211004813978485634"
     },
     "user_tz": 480
    },
    "id": "BS9Sm9330txF",
    "outputId": "dae1a1a0-9134-4740-f0fb-25f5052826f0"
   },
   "outputs": [
    {
     "data": {
      "text/plain": [
       "'ninety-nine'"
      ]
     },
     "execution_count": 19,
     "metadata": {},
     "output_type": "execute_result"
    }
   ],
   "source": [
    "# FIRST, RE-RUN THE SECOND CELL IN THIS VIDEO.\n",
    "# Check the value contained in `max_age` (SHOULD OUTPUT 34).\n",
    "max_age"
   ]
  },
  {
   "cell_type": "code",
   "execution_count": 10,
   "metadata": {
    "colab": {
     "base_uri": "https://localhost:8080/"
    },
    "executionInfo": {
     "elapsed": 183,
     "status": "ok",
     "timestamp": 1675827961363,
     "user": {
      "displayName": "Matteo Riotto",
      "userId": "15211004813978485634"
     },
     "user_tz": 480
    },
    "id": "2BiVcYOv0uqh",
    "outputId": "de794512-17f5-4ed9-e813-09287931f063"
   },
   "outputs": [
    {
     "ename": "NameError",
     "evalue": "name 'age_list' is not defined",
     "output_type": "error",
     "traceback": [
      "\u001b[31m---------------------------------------------------------------------------\u001b[39m",
      "\u001b[31mNameError\u001b[39m                                 Traceback (most recent call last)",
      "\u001b[36mCell\u001b[39m\u001b[36m \u001b[39m\u001b[32mIn[10]\u001b[39m\u001b[32m, line 2\u001b[39m\n\u001b[32m      1\u001b[39m \u001b[38;5;66;03m# Find the minimum age and assign to `min_age` variable.\u001b[39;00m\n\u001b[32m----> \u001b[39m\u001b[32m2\u001b[39m min_age = \u001b[38;5;28mmin\u001b[39m(\u001b[43mage_list\u001b[49m)\n\u001b[32m      4\u001b[39m \u001b[38;5;66;03m# Subtract `min_age` from `max_age`\u001b[39;00m\n\u001b[32m      5\u001b[39m max_age - min_age\n",
      "\u001b[31mNameError\u001b[39m: name 'age_list' is not defined"
     ]
    }
   ],
   "source": [
    "# Find the minimum age and assign to `min_age` variable.\n",
    "min_age = min(age_list)\n",
    "\n",
    "# Subtract `min_age` from `max_age`\n",
    "max_age - min_age"
   ]
  },
  {
   "cell_type": "code",
   "execution_count": 16,
   "metadata": {},
   "outputs": [],
   "source": [
    "team = [\n",
    "    ('martha', 20, 'center'),\n",
    "    ('martha', 20, 'center'),\n",
    "    ('martha', 20, 'center'),\n",
    "    ('martha', 20, 'center'),\n",
    "    ('martha', 20, 'center'),\n",
    "    ('martha', 20, 'center'),\n",
    "]"
   ]
  },
  {
   "cell_type": "code",
   "execution_count": 27,
   "metadata": {},
   "outputs": [
    {
     "name": "stdout",
     "output_type": "stream",
     "text": [
      "Name:              martha \n",
      "Position:          center\n",
      "\n",
      "Name:              martha \n",
      "Position:          center\n",
      "\n",
      "Name:              martha \n",
      "Position:          center\n",
      "\n",
      "Name:              martha \n",
      "Position:          center\n",
      "\n",
      "Name:              martha \n",
      "Position:          center\n",
      "\n",
      "Name:              martha \n",
      "Position:          center\n",
      "\n"
     ]
    }
   ],
   "source": [
    "def player_position(players):\n",
    "    result = []\n",
    "    for name, age, position in players:\n",
    "        result.append('Name: {:>19} \\nPosition: {:>15}\\n'.format(name,position))\n",
    "    return result    \n",
    "\n",
    "for player in player_position(team):\n",
    "    print(player)"
   ]
  },
  {
   "cell_type": "code",
   "execution_count": null,
   "metadata": {},
   "outputs": [],
   "source": [
    "for left in range(7):\n",
    "    for right in range(left, 7):\n",
    "        print(f\"[{left}|{right}]\", end=\" \")\n",
    "    print('\\n')"
   ]
  },
  {
   "cell_type": "markdown",
   "metadata": {
    "id": "c8RvAe4JdCGO"
   },
   "source": [
    "<a name=\"5\"></a>\n",
    "## 5. [Create precise variable names](https://www.coursera.org/learn/get-started-with-python/lecture/fB03O/create-precise-variable-names) "
   ]
  },
  {
   "cell_type": "code",
   "execution_count": 16,
   "metadata": {
    "colab": {
     "base_uri": "https://localhost:8080/",
     "height": 131
    },
    "executionInfo": {
     "elapsed": 11,
     "status": "error",
     "timestamp": 1675886997230,
     "user": {
      "displayName": "Matteo Riotto",
      "userId": "15211004813978485634"
     },
     "user_tz": 480
    },
    "id": "cpZehk3ndHH-",
    "outputId": "18247e87-78e5-4fd7-eff5-ad60bba2e5ad"
   },
   "outputs": [
    {
     "ename": "SyntaxError",
     "evalue": "invalid syntax (3976348455.py, line 2)",
     "output_type": "error",
     "traceback": [
      "  \u001b[36mCell\u001b[39m\u001b[36m \u001b[39m\u001b[32mIn[16]\u001b[39m\u001b[32m, line 2\u001b[39m\n\u001b[31m    \u001b[39m\u001b[31melse = 'everyone loves some esparagus'\u001b[39m\n    ^\n\u001b[31mSyntaxError\u001b[39m\u001b[31m:\u001b[39m invalid syntax\n"
     ]
    }
   ],
   "source": [
    "# Trying to assign a value to a reserved keyword will return a syntax error.\n",
    "else = 'everyone loves some esparagus'"
   ]
  },
  {
   "cell_type": "code",
   "execution_count": 56,
   "metadata": {
    "id": "VicxwRlAphL_"
   },
   "outputs": [],
   "source": [
    "# The word \"asparagus\" is misspelled. That's allowed.\n",
    "esparagus = 'everyone loves some esparagus'"
   ]
  },
  {
   "cell_type": "code",
   "execution_count": 57,
   "metadata": {
    "colab": {
     "base_uri": "https://localhost:8080/"
    },
    "executionInfo": {
     "elapsed": 195,
     "status": "ok",
     "timestamp": 1675888343713,
     "user": {
      "displayName": "Matteo Riotto",
      "userId": "15211004813978485634"
     },
     "user_tz": 480
    },
    "id": "XEXgmYBlqN7c",
    "outputId": "a1d7d5a2-48a8-4ca9-c8c0-edbc720b95d6"
   },
   "outputs": [
    {
     "data": {
      "text/plain": [
       "14"
      ]
     },
     "execution_count": 57,
     "metadata": {},
     "output_type": "execute_result"
    }
   ],
   "source": [
    "# Order of operations\n",
    "2 * (3 + 4)"
   ]
  },
  {
   "cell_type": "code",
   "execution_count": 58,
   "metadata": {
    "colab": {
     "base_uri": "https://localhost:8080/"
    },
    "executionInfo": {
     "elapsed": 5,
     "status": "ok",
     "timestamp": 1675888673171,
     "user": {
      "displayName": "Matteo Riotto",
      "userId": "15211004813978485634"
     },
     "user_tz": 480
    },
    "id": "ei6TTyGDrVbL",
    "outputId": "7f45119b-59cd-4558-9587-b12f360bc179"
   },
   "outputs": [
    {
     "data": {
      "text/plain": [
       "10"
      ]
     },
     "execution_count": 58,
     "metadata": {},
     "output_type": "execute_result"
    }
   ],
   "source": [
    "# Order of operations\n",
    "(2 * 3) + 4"
   ]
  },
  {
   "cell_type": "code",
   "execution_count": 59,
   "metadata": {
    "colab": {
     "base_uri": "https://localhost:8080/"
    },
    "executionInfo": {
     "elapsed": 192,
     "status": "ok",
     "timestamp": 1675888791136,
     "user": {
      "displayName": "Matteo Riotto",
      "userId": "15211004813978485634"
     },
     "user_tz": 480
    },
    "id": "S5LsR9OIv79U",
    "outputId": "f963f122-2d58-44b5-f448-4c214ecc345a"
   },
   "outputs": [
    {
     "data": {
      "text/plain": [
       "43"
      ]
     },
     "execution_count": 59,
     "metadata": {},
     "output_type": "execute_result"
    }
   ],
   "source": [
    "# Order of operations\n",
    "3 + 4 * 10"
   ]
  },
  {
   "cell_type": "markdown",
   "metadata": {
    "id": "oYaWI1scaP_C"
   },
   "source": [
    "<a name=\"6\"></a>\n",
    "## 6. [Data types and conversions](https://www.coursera.org/learn/get-started-with-python/lecture/z9zda/data-types-and-conversions)"
   ]
  },
  {
   "cell_type": "code",
   "execution_count": 60,
   "metadata": {
    "colab": {
     "base_uri": "https://localhost:8080/"
    },
    "executionInfo": {
     "elapsed": 7,
     "status": "ok",
     "timestamp": 1677611074660,
     "user": {
      "displayName": "Arwen Shackelford",
      "userId": "14614635049532489764"
     },
     "user_tz": 360
    },
    "id": "gsLRzkRTwSEF",
    "outputId": "fb98fa8b-80f8-4a5a-d730-b2fed850cdea"
   },
   "outputs": [
    {
     "name": "stdout",
     "output_type": "stream",
     "text": [
      "15\n"
     ]
    }
   ],
   "source": [
    "# Addition of 2 ints\n",
    "print(7+8)"
   ]
  },
  {
   "cell_type": "code",
   "execution_count": 61,
   "metadata": {
    "colab": {
     "base_uri": "https://localhost:8080/"
    },
    "executionInfo": {
     "elapsed": 4,
     "status": "ok",
     "timestamp": 1677611079123,
     "user": {
      "displayName": "Arwen Shackelford",
      "userId": "14614635049532489764"
     },
     "user_tz": 360
    },
    "id": "LczVZ9QqaWSN",
    "outputId": "a6ac4254-3ebc-4c0b-de2f-5962fa480994"
   },
   "outputs": [
    {
     "name": "stdout",
     "output_type": "stream",
     "text": [
      "hello world\n"
     ]
    }
   ],
   "source": [
    "# Addition of 2 strings\n",
    "print(\"hello \" + \"world\")"
   ]
  },
  {
   "cell_type": "code",
   "execution_count": 62,
   "metadata": {
    "colab": {
     "base_uri": "https://localhost:8080/",
     "height": 169
    },
    "executionInfo": {
     "elapsed": 227,
     "status": "error",
     "timestamp": 1677611085572,
     "user": {
      "displayName": "Arwen Shackelford",
      "userId": "14614635049532489764"
     },
     "user_tz": 360
    },
    "id": "IImoDtpgaZRW",
    "outputId": "38a207ad-c69a-4d63-9303-bca16e07837b"
   },
   "outputs": [
    {
     "ename": "TypeError",
     "evalue": "unsupported operand type(s) for +: 'int' and 'str'",
     "output_type": "error",
     "traceback": [
      "\u001b[0;31m---------------------------------------------------------------------------\u001b[0m",
      "\u001b[0;31mTypeError\u001b[0m                                 Traceback (most recent call last)",
      "\u001b[0;32m<ipython-input-62-199724c0b4c0>\u001b[0m in \u001b[0;36m<module>\u001b[0;34m\u001b[0m\n\u001b[1;32m      1\u001b[0m \u001b[0;31m# You cannot add a string to an integer\u001b[0m\u001b[0;34m\u001b[0m\u001b[0;34m\u001b[0m\u001b[0;34m\u001b[0m\u001b[0m\n\u001b[0;32m----> 2\u001b[0;31m \u001b[0mprint\u001b[0m\u001b[0;34m(\u001b[0m\u001b[0;36m7\u001b[0m\u001b[0;34m+\u001b[0m\u001b[0;34m\"8\"\u001b[0m\u001b[0;34m)\u001b[0m\u001b[0;34m\u001b[0m\u001b[0;34m\u001b[0m\u001b[0m\n\u001b[0m",
      "\u001b[0;31mTypeError\u001b[0m: unsupported operand type(s) for +: 'int' and 'str'"
     ]
    }
   ],
   "source": [
    "# You cannot add a string to an integer.\n",
    "print(7+\"8\")"
   ]
  },
  {
   "cell_type": "code",
   "execution_count": 63,
   "metadata": {
    "colab": {
     "base_uri": "https://localhost:8080/"
    },
    "executionInfo": {
     "elapsed": 158,
     "status": "ok",
     "timestamp": 1677611094307,
     "user": {
      "displayName": "Arwen Shackelford",
      "userId": "14614635049532489764"
     },
     "user_tz": 360
    },
    "id": "GwtIkC5uaasa",
    "outputId": "316b8395-8240-4d04-e541-a5676588a78f"
   },
   "outputs": [
    {
     "data": {
      "text/plain": [
       "str"
      ]
     },
     "execution_count": 63,
     "metadata": {},
     "output_type": "execute_result"
    }
   ],
   "source": [
    "# The type() function checks the data type of an object.\n",
    "type(\"A\")"
   ]
  },
  {
   "cell_type": "code",
   "execution_count": 64,
   "metadata": {
    "colab": {
     "base_uri": "https://localhost:8080/"
    },
    "executionInfo": {
     "elapsed": 3,
     "status": "ok",
     "timestamp": 1677611098944,
     "user": {
      "displayName": "Arwen Shackelford",
      "userId": "14614635049532489764"
     },
     "user_tz": 360
    },
    "id": "GLHowyB-ac-D",
    "outputId": "4c9280d3-5dc1-4c0c-bf56-7b835e88358f"
   },
   "outputs": [
    {
     "data": {
      "text/plain": [
       "int"
      ]
     },
     "execution_count": 64,
     "metadata": {},
     "output_type": "execute_result"
    }
   ],
   "source": [
    "# The type() function checks the data type of an object.\n",
    "type(2)"
   ]
  },
  {
   "cell_type": "code",
   "execution_count": 65,
   "metadata": {
    "colab": {
     "base_uri": "https://localhost:8080/"
    },
    "executionInfo": {
     "elapsed": 209,
     "status": "ok",
     "timestamp": 1677611105027,
     "user": {
      "displayName": "Arwen Shackelford",
      "userId": "14614635049532489764"
     },
     "user_tz": 360
    },
    "id": "0DiKMWkRaeG0",
    "outputId": "108f285f-0806-403f-f13b-7f9a52b18c5a"
   },
   "outputs": [
    {
     "data": {
      "text/plain": [
       "float"
      ]
     },
     "execution_count": 65,
     "metadata": {},
     "output_type": "execute_result"
    }
   ],
   "source": [
    "# The type() function checks the data type of an object.\n",
    "type(2.5)"
   ]
  },
  {
   "cell_type": "code",
   "execution_count": 66,
   "metadata": {
    "colab": {
     "base_uri": "https://localhost:8080/"
    },
    "executionInfo": {
     "elapsed": 166,
     "status": "ok",
     "timestamp": 1677611116652,
     "user": {
      "displayName": "Arwen Shackelford",
      "userId": "14614635049532489764"
     },
     "user_tz": 360
    },
    "id": "_ltDCQaVafkl",
    "outputId": "9c026122-cbe4-4d8c-eb34-9de572795b51"
   },
   "outputs": [
    {
     "name": "stdout",
     "output_type": "stream",
     "text": [
      "3.5\n"
     ]
    }
   ],
   "source": [
    "# Implicit conversion\n",
    "print(1 + 2.5)"
   ]
  },
  {
   "cell_type": "code",
   "execution_count": 67,
   "metadata": {
    "colab": {
     "base_uri": "https://localhost:8080/"
    },
    "executionInfo": {
     "elapsed": 4,
     "status": "ok",
     "timestamp": 1677611124455,
     "user": {
      "displayName": "Arwen Shackelford",
      "userId": "14614635049532489764"
     },
     "user_tz": 360
    },
    "id": "d0oGgY6_aibD",
    "outputId": "eb0d7c0e-b90c-4d84-f563-af24792227cc"
   },
   "outputs": [
    {
     "name": "stdout",
     "output_type": "stream",
     "text": [
      "2 + 2 = 4\n"
     ]
    }
   ],
   "source": [
    "# Explicit conversion (The str() function converts a number to a string.)\n",
    "print(\"2 + 2 = \" + str(2 + 2))"
   ]
  },
  {
   "cell_type": "markdown",
   "metadata": {},
   "source": [
    "**Congratulations!** You've completed this lab. However, you may not notice a green check mark next to this item on Coursera's platform. Please continue your progress regardless of the check mark. Just click on the \"save\" icon at the top of this notebook to ensure your work has been logged."
   ]
  }
 ],
 "metadata": {
  "colab": {
   "provenance": [],
   "toc_visible": true
  },
  "kernelspec": {
   "display_name": "jupyter",
   "language": "python",
   "name": "python3"
  },
  "language_info": {
   "codemirror_mode": {
    "name": "ipython",
    "version": 3
   },
   "file_extension": ".py",
   "mimetype": "text/x-python",
   "name": "python",
   "nbconvert_exporter": "python",
   "pygments_lexer": "ipython3",
   "version": "3.12.3"
  }
 },
 "nbformat": 4,
 "nbformat_minor": 1
}
